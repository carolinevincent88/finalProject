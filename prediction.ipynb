{
 "cells": [
  {
   "cell_type": "code",
   "execution_count": 2,
   "metadata": {},
   "outputs": [],
   "source": [
    "import pandas as pd\n",
    "import numpy as np\n",
    "import json\n",
    "import urllib\n",
    "from geopy.geocoders import Nominatim\n",
    "import matplotlib.pyplot as plt"
   ]
  },
  {
   "cell_type": "code",
   "execution_count": 3,
   "metadata": {},
   "outputs": [
    {
     "name": "stdout",
     "output_type": "stream",
     "text": [
      "Retrieved 97141 characters\n"
     ]
    }
   ],
   "source": [
    "url = \"https://data.cambridgema.gov/resource/xuad-73uj.json?$limit=400\"\n",
    "uh = urllib.request.urlopen(url)\n",
    "data = uh.read().decode()\n",
    "print('Retrieved', len(data), 'characters')"
   ]
  },
  {
   "cell_type": "code",
   "execution_count": 4,
   "metadata": {},
   "outputs": [
    {
     "data": {
      "text/html": [
       "<div>\n",
       "<style scoped>\n",
       "    .dataframe tbody tr th:only-of-type {\n",
       "        vertical-align: middle;\n",
       "    }\n",
       "\n",
       "    .dataframe tbody tr th {\n",
       "        vertical-align: top;\n",
       "    }\n",
       "\n",
       "    .dataframe thead th {\n",
       "        text-align: right;\n",
       "    }\n",
       "</style>\n",
       "<table border=\"1\" class=\"dataframe\">\n",
       "  <thead>\n",
       "    <tr style=\"text-align: right;\">\n",
       "      <th></th>\n",
       "      <th>file_number</th>\n",
       "      <th>date_of_report</th>\n",
       "      <th>crime_date_time</th>\n",
       "      <th>crime</th>\n",
       "      <th>reporting_area</th>\n",
       "      <th>neighborhood</th>\n",
       "      <th>location</th>\n",
       "    </tr>\n",
       "  </thead>\n",
       "  <tbody>\n",
       "    <tr>\n",
       "      <th>0</th>\n",
       "      <td>2023-02647</td>\n",
       "      <td>2023-03-31T22:52:00.000</td>\n",
       "      <td>03/30/2023 16:00 - 03/31/2023 22:52</td>\n",
       "      <td>Auto Theft</td>\n",
       "      <td>506</td>\n",
       "      <td>Cambridgeport</td>\n",
       "      <td>Lopez St &amp; Brookline St, Cambridge, Massachusetts</td>\n",
       "    </tr>\n",
       "    <tr>\n",
       "      <th>1</th>\n",
       "      <td>2023-02643</td>\n",
       "      <td>2023-03-31T20:39:00.000</td>\n",
       "      <td>03/31/2023 20:36</td>\n",
       "      <td>Aggravated Assault</td>\n",
       "      <td>1101</td>\n",
       "      <td>North Cambridge</td>\n",
       "      <td>MASSACHUSETTS AVE &amp; SOMERVILLE AVE, Cambridge,...</td>\n",
       "    </tr>\n",
       "    <tr>\n",
       "      <th>2</th>\n",
       "      <td>2023-02640</td>\n",
       "      <td>2023-03-31T18:14:00.000</td>\n",
       "      <td>03/29/2023 20:00 - 03/31/2023 18:00</td>\n",
       "      <td>Larceny from MV</td>\n",
       "      <td>508</td>\n",
       "      <td>Cambridgeport</td>\n",
       "      <td>500 PUTNAM AVE, Cambridge, Massachusetts</td>\n",
       "    </tr>\n",
       "    <tr>\n",
       "      <th>3</th>\n",
       "      <td>2023-02634</td>\n",
       "      <td>2023-03-31T13:27:00.000</td>\n",
       "      <td>03/26/2023 17:30</td>\n",
       "      <td>Street Robbery</td>\n",
       "      <td>1002</td>\n",
       "      <td>West Cambridge</td>\n",
       "      <td>BRATTLE ST &amp; Church St, Cambridge, Massachusetts</td>\n",
       "    </tr>\n",
       "    <tr>\n",
       "      <th>4</th>\n",
       "      <td>2023-02630</td>\n",
       "      <td>2023-03-31T10:36:00.000</td>\n",
       "      <td>03/30/2023 18:00 - 23:00</td>\n",
       "      <td>Auto Theft</td>\n",
       "      <td>901</td>\n",
       "      <td>Peabody</td>\n",
       "      <td>GARDEN ST &amp; MASSACHUSETTS AVE, Cambridge, Mass...</td>\n",
       "    </tr>\n",
       "  </tbody>\n",
       "</table>\n",
       "</div>"
      ],
      "text/plain": [
       "  file_number           date_of_report                      crime_date_time   \n",
       "0  2023-02647  2023-03-31T22:52:00.000  03/30/2023 16:00 - 03/31/2023 22:52  \\\n",
       "1  2023-02643  2023-03-31T20:39:00.000                     03/31/2023 20:36   \n",
       "2  2023-02640  2023-03-31T18:14:00.000  03/29/2023 20:00 - 03/31/2023 18:00   \n",
       "3  2023-02634  2023-03-31T13:27:00.000                     03/26/2023 17:30   \n",
       "4  2023-02630  2023-03-31T10:36:00.000             03/30/2023 18:00 - 23:00   \n",
       "\n",
       "                crime reporting_area     neighborhood   \n",
       "0          Auto Theft            506    Cambridgeport  \\\n",
       "1  Aggravated Assault           1101  North Cambridge   \n",
       "2     Larceny from MV            508    Cambridgeport   \n",
       "3      Street Robbery           1002   West Cambridge   \n",
       "4          Auto Theft            901          Peabody   \n",
       "\n",
       "                                            location  \n",
       "0  Lopez St & Brookline St, Cambridge, Massachusetts  \n",
       "1  MASSACHUSETTS AVE & SOMERVILLE AVE, Cambridge,...  \n",
       "2           500 PUTNAM AVE, Cambridge, Massachusetts  \n",
       "3   BRATTLE ST & Church St, Cambridge, Massachusetts  \n",
       "4  GARDEN ST & MASSACHUSETTS AVE, Cambridge, Mass...  "
      ]
     },
     "execution_count": 4,
     "metadata": {},
     "output_type": "execute_result"
    }
   ],
   "source": [
    "#load data to a dictionary\n",
    "myData = json.loads(data)\n",
    "\n",
    "#load myData into a DataFrame object\n",
    "df = pd.DataFrame(myData)\n",
    "\n",
    "#replace Ma with Massachusetts for every address in df['location']\n",
    "df['location'] = df['location'].str.replace(', MA', ', Massachusetts')\n",
    "\n",
    "#print the first 5 rows of df\n",
    "df.head()"
   ]
  },
  {
   "cell_type": "code",
   "execution_count": 5,
   "metadata": {},
   "outputs": [
    {
     "name": "stderr",
     "output_type": "stream",
     "text": [
      "Bad pipe message: %s [b'.\\xf8\\'\\xf7\\x1d\"vlF\\x08H\\xcb\\x9d<f\\xa2\\xa5X \\xf8\\xcf\\x0b\\xd9\\x04/n\\xed\\xb8$PQ\\x11\\xce\\xe4\\xb9\\xa8\\xaf\\x04\\xd8|<}:3\\xd6Z\\x0cCz\\xe9\\xf9\\x00\\x08\\x13\\x02\\x13\\x03\\x13\\x01\\x00\\xff\\x01\\x00\\x00\\x8f\\x00\\x00\\x00\\x0e\\x00\\x0c\\x00\\x00\\t127.0.0.1\\x00\\x0b\\x00\\x04\\x03\\x00\\x01\\x02\\x00\\n\\x00\\x0c\\x00\\n\\x00\\x1d\\x00\\x17\\x00\\x1e\\x00\\x19\\x00\\x18\\x00#\\x00\\x00\\x00\\x16\\x00\\x00\\x00\\x17\\x00\\x00\\x00\\r\\x00\\x1e\\x00\\x1c\\x04\\x03\\x05\\x03\\x06\\x03\\x08\\x07\\x08\\x08\\x08\\t\\x08\\n\\x08\\x0b\\x08\\x04\\x08\\x05\\x08\\x06\\x04\\x01\\x05\\x01\\x06\\x01\\x00+\\x00\\x03\\x02\\x03\\x04\\x00-\\x00\\x02\\x01\\x01\\x003\\x00&\\x00$\\x00\\x1d\\x00 \\xce8\\xfc\\xa1\\x8a\\x11vH\\xd5\\xcc\\xf8\\xb9\\x06s\\xc0J\\xab=]\\xff\\\\\\xe9#\\x18']\n",
      "Bad pipe message: %s [b'\\xa4)\\xe2\\xcf\\xba\\x1c\\xca', b\"\\xb4\\xaf_\\xf1P\\x999\\xf0\\x14\\x00\\x00|\\xc0,\\xc00\\x00\\xa3\\x00\\x9f\\xcc\\xa9\\xcc\\xa8\\xcc\\xaa\\xc0\\xaf\\xc0\\xad\\xc0\\xa3\\xc0\\x9f\\xc0]\\xc0a\\xc0W\\xc0S\\xc0+\\xc0/\\x00\\xa2\\x00\\x9e\\xc0\\xae\\xc0\\xac\\xc0\\xa2\\xc0\\x9e\\xc0\\\\\\xc0`\\xc0V\\xc0R\\xc0$\\xc0(\\x00k\\x00j\\xc0#\\xc0'\\x00g\\x00@\\xc0\\n\\xc0\\x14\\x009\\x008\\xc0\\t\\xc0\\x13\\x003\\x002\\x00\\x9d\\xc0\\xa1\\xc0\\x9d\\xc0Q\\x00\\x9c\\xc0\\xa0\\xc0\\x9c\\xc0P\\x00=\\x00<\\x005\\x00/\\x00\\x9a\\x00\\x99\\xc0\\x07\\xc0\\x11\\x00\\x96\\x00\\x05\\x00\\xff\\x01\\x00\\x00j\\x00\\x00\\x00\\x0e\\x00\\x0c\\x00\\x00\"]\n",
      "Bad pipe message: %s [b\"'(\\xb5EF\\xd71\\xa4DW\\xc2~4B\\x12\\x02\\x94p\\x00\\x00\\xa6\\xc0,\\xc00\\x00\\xa3\\x00\\x9f\\xcc\\xa9\\xcc\\xa8\\xcc\\xaa\\xc0\\xaf\\xc0\\xad\\xc0\\xa3\\xc0\\x9f\\xc0]\\xc0a\\xc0W\\xc0S\\xc0+\\xc0/\\x00\\xa2\\x00\\x9e\\xc0\\xae\\xc0\\xac\\xc0\\xa2\\xc0\\x9e\\xc0\\\\\\xc0`\\xc0V\\xc0R\\xc0$\\xc0(\\x00k\\x00j\\xc0s\\xc0w\\x00\\xc4\\x00\\xc3\\xc0#\\xc0'\\x00g\\x00@\\xc0r\\xc0v\\x00\\xbe\\x00\\xbd\\xc0\\n\\xc0\\x14\\x009\\x008\\x00\\x88\\x00\\x87\\xc0\\t\\xc0\\x13\\x003\\x002\\x00\\x9a\\x00\\x99\\x00E\\x00D\\xc0\\x07\\xc0\\x11\\xc0\\x08\\xc0\\x12\\x00\\x16\\x00\\x13\\x00\\x9d\\xc0\\xa1\\xc0\\x9d\\xc0Q\\x00\\x9c\\xc0\\xa0\\xc0\\x9c\\xc0P\\x00=\\x00\\xc0\\x00<\\x00\\xba\\x005\\x00\\x84\\x00/\\x00\\x96\\x00A\\x00\\x05\\x00\\n\\x00\\xff\\x01\\x00\\x00j\\x00\\x00\\x00\\x0e\\x00\\x0c\\x00\\x00\\t127.0.0.1\\x00\\x0b\\x00\\x04\\x03\\x00\\x01\\x02\\x00\\n\\x00\\x0c\\x00\\n\\x00\\x1d\\x00\\x17\\x00\\x1e\\x00\\x19\\x00\\x18\\x00#\\x00\\x00\\x00\\x16\\x00\\x00\\x00\\x17\\x00\\x00\\x00\\r\\x000\"]\n",
      "Bad pipe message: %s [b'\\x86\\x88c\\xaf\\xc6!\\xd7\\x94\\xe4\\xc8\\xec\\x8cb\\xad\\xa8P{3\\x00\\x00\\xa2\\xc0\\x14\\xc0\\n\\x009\\x008\\x007\\x006\\x00\\x88\\x00\\x87\\x00\\x86\\x00\\x85\\xc0\\x19\\x00:\\x00\\x89\\xc0\\x0f\\xc0\\x05\\x005\\x00\\x84\\xc0\\x13\\xc0\\t\\x003\\x002\\x001\\x000\\x00\\x9a\\x00\\x99\\x00\\x98\\x00\\x97\\x00E\\x00D\\x00C\\x00B\\xc0\\x18\\x004\\x00\\x9b\\x00F\\xc0\\x0e\\xc0\\x04\\x00/\\x00\\x96\\x00A\\x00\\x07\\xc0\\x11\\xc0\\x07\\xc0\\x16\\x00\\x18\\xc0\\x0c\\xc0\\x02\\x00\\x05\\x00\\x04\\xc0\\x12\\xc0\\x08\\x00\\x16\\x00\\x13\\x00\\x10\\x00\\r\\xc0\\x17\\x00\\x1b\\xc0\\r\\xc0\\x03\\x00\\n\\x00\\x15\\x00\\x12\\x00\\x0f\\x00\\x0c\\x00\\x1a\\x00\\t\\x00\\x14\\x00\\x11\\x00\\x19\\x00\\x08\\x00\\x06\\x00\\x17\\x00\\x03\\xc0\\x10\\xc0\\x06\\xc0\\x15\\xc0\\x0b\\xc0', b'']\n",
      "Bad pipe message: %s [b'\\x01']\n",
      "Bad pipe message: %s [b'N0\\x14A:~\\x18\\x8a\\r]\\xd9\\x9c\\xa3I\\xf0ta\\xd5\\x00\\x00>\\xc0\\x14\\xc0\\n\\x009\\x008\\x007\\x006\\xc0\\x0f\\xc0\\x05\\x005\\xc0\\x13\\xc0\\t\\x003\\x002\\x001\\x000\\xc0\\x0e\\xc0\\x04\\x00/\\x00\\x9a\\x00\\x99\\x00\\x98\\x00\\x97\\x00\\x96\\x00\\x07\\xc0\\x11\\xc0\\x07\\xc0\\x0c\\xc0\\x02\\x00\\x05\\x00\\x04\\x00\\xff\\x02\\x01\\x00\\x00C\\x00\\x00\\x00\\x0e\\x00\\x0c\\x00\\x00\\t127.0.0.1']\n",
      "Bad pipe message: %s [b'\\xde\\x18\\x00\\x07\\xe8\\xd7\\x9a\\xcb\\xb9\\r\\x02\\xde\\xe1\\xb1C\\xda\\xf7\\x83\\x00\\x00\\xa2\\xc0\\x14\\xc0\\n\\x009\\x008\\x007\\x006\\x00\\x88\\x00\\x87\\x00\\x86\\x00\\x85\\xc0\\x19']\n",
      "Bad pipe message: %s [b'(C\\xc2\\xfbC$]Sl]\\x11\\xeb|\\xa3go\\xc7']\n",
      "Bad pipe message: %s [b'Pf\\x97\\xc7\\x05i@\\r\\xa8\\xc5\\x9c\\xa4\\x8d7\\x81\\xda\\xaf\\xdf\\x00\\x00\\xa2\\xc0\\x14\\xc0\\n\\x009\\x008\\x007\\x006\\x00\\x88\\x00\\x87\\x00\\x86\\x00\\x85\\xc0\\x19\\x00:\\x00\\x89\\xc0\\x0f\\xc0\\x05\\x005\\x00\\x84\\xc0\\x13\\xc0\\t\\x003\\x002\\x001\\x000\\x00\\x9a\\x00\\x99\\x00\\x98\\x00\\x97\\x00E\\x00D\\x00C\\x00B\\xc0\\x18\\x004\\x00\\x9b\\x00F\\xc0\\x0e\\xc0\\x04\\x00/\\x00\\x96\\x00A\\x00\\x07\\xc0\\x11\\xc0\\x07\\xc0\\x16\\x00\\x18\\xc0\\x0c\\xc0\\x02\\x00\\x05\\x00\\x04\\xc0\\x12\\xc0\\x08\\x00\\x16\\x00\\x13\\x00\\x10\\x00\\r\\xc0\\x17\\x00\\x1b\\xc0\\r\\xc0\\x03\\x00\\n\\x00\\x15\\x00\\x12\\x00\\x0f\\x00\\x0c\\x00\\x1a\\x00\\t\\x00\\x14\\x00\\x11\\x00', b'\\x08\\x00\\x06\\x00\\x17\\x00\\x03\\xc0\\x10\\xc0\\x06\\xc0\\x15\\xc0\\x0b\\xc0\\x01\\x00\\x02\\x00\\x01\\x00\\xff\\x02']\n",
      "Bad pipe message: %s [b'']\n",
      "Bad pipe message: %s [b'K\\x11\\xf8\\x01j\\xb5\\x86\\xd4V\\xa3\\xcf\\x1d71\\xc2\\x03\\xd2\\xb6\\x00\\x00\\x86\\xc00\\xc0,\\xc0(\\xc0$\\xc0\\x14\\xc0\\n\\x00\\xa5\\x00\\xa3\\x00\\xa1\\x00\\x9f\\x00k\\x00j\\x00i\\x00']\n",
      "Bad pipe message: %s [b\"9\\x008\\x007\\x006\\xc02\\xc0.\\xc0*\\xc0&\\xc0\\x0f\\xc0\\x05\\x00\\x9d\\x00=\\x005\\xc0/\\xc0+\\xc0'\\xc0#\\xc0\\x13\\xc0\\t\\x00\\xa4\\x00\\xa2\\x00\\xa0\\x00\\x9e\\x00g\\x00@\\x00?\\x00>\\x003\\x002\\x001\\x000\\xc01\\xc0-\\xc0)\\xc0%\\xc0\\x0e\\xc0\\x04\\x00\\x9c\\x00<\\x00/\\x00\\x9a\\x00\\x99\\x00\\x98\\x00\\x97\\x00\\x96\\x00\\x07\\xc0\\x11\\xc0\\x07\\xc0\\x0c\\xc0\\x02\\x00\\x05\\x00\\x04\"]\n"
     ]
    },
    {
     "data": {
      "text/html": [
       "<div>\n",
       "<style scoped>\n",
       "    .dataframe tbody tr th:only-of-type {\n",
       "        vertical-align: middle;\n",
       "    }\n",
       "\n",
       "    .dataframe tbody tr th {\n",
       "        vertical-align: top;\n",
       "    }\n",
       "\n",
       "    .dataframe thead th {\n",
       "        text-align: right;\n",
       "    }\n",
       "</style>\n",
       "<table border=\"1\" class=\"dataframe\">\n",
       "  <thead>\n",
       "    <tr style=\"text-align: right;\">\n",
       "      <th></th>\n",
       "      <th>file_number</th>\n",
       "      <th>date_of_report</th>\n",
       "      <th>crime_date_time</th>\n",
       "      <th>crime</th>\n",
       "      <th>reporting_area</th>\n",
       "      <th>neighborhood</th>\n",
       "      <th>location</th>\n",
       "      <th>latitude</th>\n",
       "      <th>longitude</th>\n",
       "    </tr>\n",
       "  </thead>\n",
       "  <tbody>\n",
       "    <tr>\n",
       "      <th>2</th>\n",
       "      <td>2023-02640</td>\n",
       "      <td>2023-03-31T18:14:00.000</td>\n",
       "      <td>03/29/2023 20:00 - 03/31/2023 18:00</td>\n",
       "      <td>Larceny from MV</td>\n",
       "      <td>508</td>\n",
       "      <td>Cambridgeport</td>\n",
       "      <td>500 PUTNAM AVE, Cambridge, Massachusetts</td>\n",
       "      <td>42.358253</td>\n",
       "      <td>-71.109385</td>\n",
       "    </tr>\n",
       "    <tr>\n",
       "      <th>4</th>\n",
       "      <td>2023-02630</td>\n",
       "      <td>2023-03-31T10:36:00.000</td>\n",
       "      <td>03/30/2023 18:00 - 23:00</td>\n",
       "      <td>Auto Theft</td>\n",
       "      <td>901</td>\n",
       "      <td>Peabody</td>\n",
       "      <td>GARDEN ST &amp; MASSACHUSETTS AVE, Cambridge, Mass...</td>\n",
       "      <td>42.378372</td>\n",
       "      <td>-71.123878</td>\n",
       "    </tr>\n",
       "    <tr>\n",
       "      <th>5</th>\n",
       "      <td>2023-02614</td>\n",
       "      <td>2023-03-30T17:27:00.000</td>\n",
       "      <td>03/29/2023 14:56 - 15:40</td>\n",
       "      <td>Larceny from Residence</td>\n",
       "      <td>107</td>\n",
       "      <td>East Cambridge</td>\n",
       "      <td>100 GORE ST, Cambridge, Massachusetts</td>\n",
       "      <td>42.371887</td>\n",
       "      <td>-71.08232</td>\n",
       "    </tr>\n",
       "    <tr>\n",
       "      <th>6</th>\n",
       "      <td>2023-02612</td>\n",
       "      <td>2023-03-30T17:20:00.000</td>\n",
       "      <td>03/30/2023 17:19</td>\n",
       "      <td>Commercial Robbery</td>\n",
       "      <td>1204</td>\n",
       "      <td>Highlands</td>\n",
       "      <td>200 Alewife Brook Pky, Cambridge, Massachusetts</td>\n",
       "      <td>42.388369</td>\n",
       "      <td>-71.142954</td>\n",
       "    </tr>\n",
       "    <tr>\n",
       "      <th>7</th>\n",
       "      <td>2023-02618</td>\n",
       "      <td>2023-03-30T17:10:00.000</td>\n",
       "      <td>03/30/2023 13:29</td>\n",
       "      <td>Larceny from Residence</td>\n",
       "      <td>504</td>\n",
       "      <td>Cambridgeport</td>\n",
       "      <td>0 PEARL ST, Cambridge, Massachusetts</td>\n",
       "      <td>42.364644</td>\n",
       "      <td>-71.102668</td>\n",
       "    </tr>\n",
       "  </tbody>\n",
       "</table>\n",
       "</div>"
      ],
      "text/plain": [
       "  file_number           date_of_report                      crime_date_time   \n",
       "2  2023-02640  2023-03-31T18:14:00.000  03/29/2023 20:00 - 03/31/2023 18:00  \\\n",
       "4  2023-02630  2023-03-31T10:36:00.000             03/30/2023 18:00 - 23:00   \n",
       "5  2023-02614  2023-03-30T17:27:00.000             03/29/2023 14:56 - 15:40   \n",
       "6  2023-02612  2023-03-30T17:20:00.000                     03/30/2023 17:19   \n",
       "7  2023-02618  2023-03-30T17:10:00.000                     03/30/2023 13:29   \n",
       "\n",
       "                    crime reporting_area    neighborhood   \n",
       "2         Larceny from MV            508   Cambridgeport  \\\n",
       "4              Auto Theft            901         Peabody   \n",
       "5  Larceny from Residence            107  East Cambridge   \n",
       "6      Commercial Robbery           1204       Highlands   \n",
       "7  Larceny from Residence            504   Cambridgeport   \n",
       "\n",
       "                                            location   latitude  longitude  \n",
       "2           500 PUTNAM AVE, Cambridge, Massachusetts  42.358253 -71.109385  \n",
       "4  GARDEN ST & MASSACHUSETTS AVE, Cambridge, Mass...  42.378372 -71.123878  \n",
       "5              100 GORE ST, Cambridge, Massachusetts  42.371887  -71.08232  \n",
       "6    200 Alewife Brook Pky, Cambridge, Massachusetts  42.388369 -71.142954  \n",
       "7               0 PEARL ST, Cambridge, Massachusetts  42.364644 -71.102668  "
      ]
     },
     "execution_count": 5,
     "metadata": {},
     "output_type": "execute_result"
    }
   ],
   "source": [
    "locator = Nominatim(user_agent=\"myGeocoder\", timeout=10)\n",
    "\n",
    "#create columns for latitude and longitude\n",
    "df['latitude'] = \"\"\n",
    "df['longitude'] = \"\"\n",
    "\n",
    "#loop through each row of the DataFrame and geocode the address\n",
    "for index, row in df.iterrows():\n",
    "    location = locator.geocode(row['location'])\n",
    "    if location:\n",
    "        df.at[index, 'latitude'] = location.latitude\n",
    "        df.at[index, 'longitude'] = location.longitude\n",
    "    else:\n",
    "        df.at[index, 'latitude'] = \"\"\n",
    "        df.at[index, 'longitude'] = \"\"\n",
    "\n",
    "#drop rows with no latitude or longitude\n",
    "df = df[df['latitude'] != \"\"]\n",
    "df = df[df['longitude'] != \"\"]\n",
    "df.head()"
   ]
  },
  {
   "cell_type": "code",
   "execution_count": 6,
   "metadata": {},
   "outputs": [],
   "source": [
    "#convert latitude and longitude to numeric values\n",
    "df['latitude'] = pd.to_numeric(df['latitude'])\n",
    "df['longitude'] = pd.to_numeric(df['longitude'])"
   ]
  },
  {
   "cell_type": "code",
   "execution_count": 22,
   "metadata": {},
   "outputs": [],
   "source": [
    "#convert date_of_report to numeric values\n",
    "df['date_of_report'] = pd.to_numeric(df['date_of_report'])"
   ]
  },
  {
   "cell_type": "code",
   "execution_count": 23,
   "metadata": {},
   "outputs": [
    {
     "data": {
      "text/html": [
       "<div>\n",
       "<style scoped>\n",
       "    .dataframe tbody tr th:only-of-type {\n",
       "        vertical-align: middle;\n",
       "    }\n",
       "\n",
       "    .dataframe tbody tr th {\n",
       "        vertical-align: top;\n",
       "    }\n",
       "\n",
       "    .dataframe thead th {\n",
       "        text-align: right;\n",
       "    }\n",
       "</style>\n",
       "<table border=\"1\" class=\"dataframe\">\n",
       "  <thead>\n",
       "    <tr style=\"text-align: right;\">\n",
       "      <th></th>\n",
       "      <th>file_number</th>\n",
       "      <th>date_of_report</th>\n",
       "      <th>crime_date_time</th>\n",
       "      <th>crime</th>\n",
       "      <th>reporting_area</th>\n",
       "      <th>neighborhood</th>\n",
       "      <th>location</th>\n",
       "      <th>latitude</th>\n",
       "      <th>longitude</th>\n",
       "    </tr>\n",
       "  </thead>\n",
       "  <tbody>\n",
       "    <tr>\n",
       "      <th>2</th>\n",
       "      <td>2023-02640</td>\n",
       "      <td>1680286440000000000</td>\n",
       "      <td>03/29/2023 20:00 - 03/31/2023 18:00</td>\n",
       "      <td>Larceny from MV</td>\n",
       "      <td>508</td>\n",
       "      <td>Cambridgeport</td>\n",
       "      <td>500 PUTNAM AVE, Cambridge, Massachusetts</td>\n",
       "      <td>42.358253</td>\n",
       "      <td>-71.109385</td>\n",
       "    </tr>\n",
       "    <tr>\n",
       "      <th>4</th>\n",
       "      <td>2023-02630</td>\n",
       "      <td>1680258960000000000</td>\n",
       "      <td>03/30/2023 18:00 - 23:00</td>\n",
       "      <td>Auto Theft</td>\n",
       "      <td>901</td>\n",
       "      <td>Peabody</td>\n",
       "      <td>GARDEN ST &amp; MASSACHUSETTS AVE, Cambridge, Mass...</td>\n",
       "      <td>42.378372</td>\n",
       "      <td>-71.123878</td>\n",
       "    </tr>\n",
       "    <tr>\n",
       "      <th>5</th>\n",
       "      <td>2023-02614</td>\n",
       "      <td>1680197220000000000</td>\n",
       "      <td>03/29/2023 14:56 - 15:40</td>\n",
       "      <td>Larceny from Residence</td>\n",
       "      <td>107</td>\n",
       "      <td>East Cambridge</td>\n",
       "      <td>100 GORE ST, Cambridge, Massachusetts</td>\n",
       "      <td>42.371887</td>\n",
       "      <td>-71.082320</td>\n",
       "    </tr>\n",
       "    <tr>\n",
       "      <th>6</th>\n",
       "      <td>2023-02612</td>\n",
       "      <td>1680196800000000000</td>\n",
       "      <td>03/30/2023 17:19</td>\n",
       "      <td>Commercial Robbery</td>\n",
       "      <td>1204</td>\n",
       "      <td>Highlands</td>\n",
       "      <td>200 Alewife Brook Pky, Cambridge, Massachusetts</td>\n",
       "      <td>42.388369</td>\n",
       "      <td>-71.142954</td>\n",
       "    </tr>\n",
       "    <tr>\n",
       "      <th>7</th>\n",
       "      <td>2023-02618</td>\n",
       "      <td>1680196200000000000</td>\n",
       "      <td>03/30/2023 13:29</td>\n",
       "      <td>Larceny from Residence</td>\n",
       "      <td>504</td>\n",
       "      <td>Cambridgeport</td>\n",
       "      <td>0 PEARL ST, Cambridge, Massachusetts</td>\n",
       "      <td>42.364644</td>\n",
       "      <td>-71.102668</td>\n",
       "    </tr>\n",
       "  </tbody>\n",
       "</table>\n",
       "</div>"
      ],
      "text/plain": [
       "  file_number       date_of_report                      crime_date_time   \n",
       "2  2023-02640  1680286440000000000  03/29/2023 20:00 - 03/31/2023 18:00  \\\n",
       "4  2023-02630  1680258960000000000             03/30/2023 18:00 - 23:00   \n",
       "5  2023-02614  1680197220000000000             03/29/2023 14:56 - 15:40   \n",
       "6  2023-02612  1680196800000000000                     03/30/2023 17:19   \n",
       "7  2023-02618  1680196200000000000                     03/30/2023 13:29   \n",
       "\n",
       "                    crime reporting_area    neighborhood   \n",
       "2         Larceny from MV            508   Cambridgeport  \\\n",
       "4              Auto Theft            901         Peabody   \n",
       "5  Larceny from Residence            107  East Cambridge   \n",
       "6      Commercial Robbery           1204       Highlands   \n",
       "7  Larceny from Residence            504   Cambridgeport   \n",
       "\n",
       "                                            location   latitude  longitude  \n",
       "2           500 PUTNAM AVE, Cambridge, Massachusetts  42.358253 -71.109385  \n",
       "4  GARDEN ST & MASSACHUSETTS AVE, Cambridge, Mass...  42.378372 -71.123878  \n",
       "5              100 GORE ST, Cambridge, Massachusetts  42.371887 -71.082320  \n",
       "6    200 Alewife Brook Pky, Cambridge, Massachusetts  42.388369 -71.142954  \n",
       "7               0 PEARL ST, Cambridge, Massachusetts  42.364644 -71.102668  "
      ]
     },
     "execution_count": 23,
     "metadata": {},
     "output_type": "execute_result"
    }
   ],
   "source": [
    "df.shape\n",
    "train = df.iloc[:300, :]\n",
    "train.head()"
   ]
  },
  {
   "cell_type": "code",
   "execution_count": 24,
   "metadata": {},
   "outputs": [
    {
     "data": {
      "text/plain": [
       "<matplotlib.collections.PathCollection at 0x7f1bc2326110>"
      ]
     },
     "execution_count": 24,
     "metadata": {},
     "output_type": "execute_result"
    },
    {
     "data": {
      "image/png": "[encoded data removed]",
      "text/plain": [
       "<Figure size 640x480 with 1 Axes>"
      ]
     },
     "metadata": {},
     "output_type": "display_data"
    }
   ],
   "source": [
    "#investigate latitude and longitude\n",
    "plt.scatter(train['longitude'], train['latitude'])"
   ]
  },
  {
   "cell_type": "code",
   "execution_count": 25,
   "metadata": {},
   "outputs": [
    {
     "data": {
      "text/plain": [
       "(array([ 2.,  5.,  6., 15., 59., 30., 27., 35., 28., 12.,  4.,  2.,  5.,\n",
       "         9., 20.,  8.,  9., 13.,  5.,  6.]),\n",
       " array([42.3539526 , 42.35628757, 42.35862254, 42.36095751, 42.36329248,\n",
       "        42.36562745, 42.36796242, 42.37029739, 42.37263236, 42.37496733,\n",
       "        42.3773023 , 42.37963727, 42.38197224, 42.38430721, 42.38664218,\n",
       "        42.38897715, 42.39131212, 42.39364709, 42.39598206, 42.39831703,\n",
       "        42.400652  ]),\n",
       " <BarContainer object of 20 artists>)"
      ]
     },
     "execution_count": 25,
     "metadata": {},
     "output_type": "execute_result"
    },
    {
     "data": {
      "image/png": "[encoded data removed]",
      "text/plain": [
       "<Figure size 640x480 with 1 Axes>"
      ]
     },
     "metadata": {},
     "output_type": "display_data"
    }
   ],
   "source": [
    "#plot histogram of latitude and longitude\n",
    "plt.hist(train['latitude'], bins=20)"
   ]
  },
  {
   "cell_type": "code",
   "execution_count": 26,
   "metadata": {},
   "outputs": [
    {
     "data": {
      "text/html": [
       "<div>\n",
       "<style scoped>\n",
       "    .dataframe tbody tr th:only-of-type {\n",
       "        vertical-align: middle;\n",
       "    }\n",
       "\n",
       "    .dataframe tbody tr th {\n",
       "        vertical-align: top;\n",
       "    }\n",
       "\n",
       "    .dataframe thead th {\n",
       "        text-align: right;\n",
       "    }\n",
       "</style>\n",
       "<table border=\"1\" class=\"dataframe\">\n",
       "  <thead>\n",
       "    <tr style=\"text-align: right;\">\n",
       "      <th></th>\n",
       "      <th>date_of_report</th>\n",
       "      <th>latitude</th>\n",
       "      <th>longitude</th>\n",
       "    </tr>\n",
       "  </thead>\n",
       "  <tbody>\n",
       "    <tr>\n",
       "      <th>2</th>\n",
       "      <td>1680286440000000000</td>\n",
       "      <td>42.358253</td>\n",
       "      <td>-71.109385</td>\n",
       "    </tr>\n",
       "    <tr>\n",
       "      <th>4</th>\n",
       "      <td>1680258960000000000</td>\n",
       "      <td>42.378372</td>\n",
       "      <td>-71.123878</td>\n",
       "    </tr>\n",
       "    <tr>\n",
       "      <th>5</th>\n",
       "      <td>1680197220000000000</td>\n",
       "      <td>42.371887</td>\n",
       "      <td>-71.082320</td>\n",
       "    </tr>\n",
       "    <tr>\n",
       "      <th>6</th>\n",
       "      <td>1680196800000000000</td>\n",
       "      <td>42.388369</td>\n",
       "      <td>-71.142954</td>\n",
       "    </tr>\n",
       "    <tr>\n",
       "      <th>7</th>\n",
       "      <td>1680196200000000000</td>\n",
       "      <td>42.364644</td>\n",
       "      <td>-71.102668</td>\n",
       "    </tr>\n",
       "  </tbody>\n",
       "</table>\n",
       "</div>"
      ],
      "text/plain": [
       "        date_of_report   latitude  longitude\n",
       "2  1680286440000000000  42.358253 -71.109385\n",
       "4  1680258960000000000  42.378372 -71.123878\n",
       "5  1680197220000000000  42.371887 -71.082320\n",
       "6  1680196800000000000  42.388369 -71.142954\n",
       "7  1680196200000000000  42.364644 -71.102668"
      ]
     },
     "execution_count": 26,
     "metadata": {},
     "output_type": "execute_result"
    }
   ],
   "source": [
    "#select numeric columns from df\n",
    "train_numeric = train.select_dtypes(include=[np.number])\n",
    "train_numeric.head()"
   ]
  },
  {
   "cell_type": "code",
   "execution_count": 27,
   "metadata": {},
   "outputs": [],
   "source": [
    "# define variable cols to hold the data of columns of latitude and longitude\n",
    "cols = ['latitude', 'longitude']\n",
    "# pick out X cols and Y = date_of_report\n",
    "X = train_numeric[cols]\n",
    "y = train_numeric['date_of_report']\n"
   ]
  },
  {
   "cell_type": "code",
   "execution_count": 34,
   "metadata": {},
   "outputs": [],
   "source": [
    "# import sklearn\n",
    "from sklearn import linear_model\n",
    "# build a linear regression model\n",
    "lr = linear_model.LinearRegression()\n",
    "model = lr.fit(X, y)\n",
    "predictions = model.predict(X)"
   ]
  },
  {
   "cell_type": "code",
   "execution_count": 35,
   "metadata": {},
   "outputs": [
    {
     "name": "stdout",
     "output_type": "stream",
     "text": [
      "Mean squared error: 786604439173957101365372125184.00\n"
     ]
    }
   ],
   "source": [
    "# how well does the model fit the data?\n",
    "from sklearn.metrics import mean_squared_error\n",
    "print(\"Mean squared error: %.2f\" % mean_squared_error(y, predictions))"
   ]
  },
  {
   "cell_type": "code",
   "execution_count": null,
   "metadata": {},
   "outputs": [],
   "source": [
    "# the model is not good, and the amount of useful numerical information is limited"
   ]
  }
 ],
 "metadata": {
  "kernelspec": {
   "display_name": "Python 3",
   "language": "python",
   "name": "python3"
  },
  "language_info": {
   "codemirror_mode": {
    "name": "ipython",
    "version": 3
   },
   "file_extension": ".py",
   "mimetype": "text/x-python",
   "name": "python",
   "nbconvert_exporter": "python",
   "pygments_lexer": "ipython3",
   "version": "3.11.3"
  },
  "orig_nbformat": 4
 },
 "nbformat": 4,
 "nbformat_minor": 2
}
